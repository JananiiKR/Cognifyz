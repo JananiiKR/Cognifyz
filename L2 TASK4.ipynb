{
 "cells": [
  {
   "cell_type": "code",
   "execution_count": 1,
   "metadata": {},
   "outputs": [
    {
     "name": "stdout",
     "output_type": "stream",
     "text": [
      "                Restaurant Name  Total_Restaurants  Avg_Rating  Total_Votes\n",
      "663             Barbeque Nation                 26    4.353846        28142\n",
      "101   AB's - Absolute Barbecues                  4    4.825000        13400\n",
      "785                   Big Chill                  4    4.475000        10853\n",
      "2297                 Farzi Cafe                  6    4.366667        10098\n",
      "6988                   Truffles                  2    3.950000         9682\n",
      "...                         ...                ...         ...          ...\n",
      "4387           Murliwala Bakers                  2    0.000000            0\n",
      "5216        Rajdhani Restaurant                  2    0.000000            0\n",
      "6092                Street Cafe                  2    0.000000            0\n",
      "6439              The Big Scoop                  2    0.000000            0\n",
      "7269               Whatslife.in                  2    0.000000            0\n",
      "\n",
      "[734 rows x 4 columns]\n"
     ]
    }
   ],
   "source": [
    "import pandas as pd\n",
    "\n",
    "# Load the dataset\n",
    "file_path = \"C:/Users/kuppu/Downloads/Dataset .csv\"\n",
    "data = pd.read_csv(file_path)\n",
    "\n",
    "# Identify potential restaurant chains (grouping by restaurant name)\n",
    "chain_groups = data.groupby('Restaurant Name').agg(\n",
    "    Total_Restaurants=('Restaurant ID', 'count'),\n",
    "    Avg_Rating=('Aggregate rating', 'mean'),\n",
    "    Total_Votes=('Votes', 'sum')\n",
    ").reset_index()\n",
    "\n",
    "# Filter chains that have more than one restaurant\n",
    "restaurant_chains = chain_groups[chain_groups['Total_Restaurants'] > 1]\n",
    "\n",
    "# Sort by popularity (Total Votes) and rating\n",
    "restaurant_chains = restaurant_chains.sort_values(by=['Total_Votes', 'Avg_Rating'], ascending=[False, False])\n",
    "\n",
    "# Display the identified restaurant chains with their average rating and popularity\n",
    "print(restaurant_chains)"
   ]
  }
 ],
 "metadata": {
  "kernelspec": {
   "display_name": "Python 3",
   "language": "python",
   "name": "python3"
  },
  "language_info": {
   "codemirror_mode": {
    "name": "ipython",
    "version": 3
   },
   "file_extension": ".py",
   "mimetype": "text/x-python",
   "name": "python",
   "nbconvert_exporter": "python",
   "pygments_lexer": "ipython3",
   "version": "3.11.9"
  }
 },
 "nbformat": 4,
 "nbformat_minor": 2
}
