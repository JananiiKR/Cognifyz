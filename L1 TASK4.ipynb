{
 "cells": [
  {
   "cell_type": "code",
   "execution_count": 10,
   "metadata": {},
   "outputs": [],
   "source": [
    "import pandas as pd\n",
    "\n",
    "# Load your CSV file\n",
    "data = pd.read_csv(\"C:/Users/kuppu/Downloads/Dataset .csv\")\n"
   ]
  },
  {
   "cell_type": "code",
   "execution_count": 11,
   "metadata": {},
   "outputs": [],
   "source": [
    "data['Has Online delivery'] = data['Has Online delivery'].str.strip().str.lower() == 'yes'\n"
   ]
  },
  {
   "cell_type": "code",
   "execution_count": 12,
   "metadata": {},
   "outputs": [
    {
     "name": "stdout",
     "output_type": "stream",
     "text": [
      "Percentage of restaurants offering online delivery: 25.66%\n"
     ]
    }
   ],
   "source": [
    "online_delivery_percentage = data['Has Online delivery'].mean() * 100\n",
    "print(f\"Percentage of restaurants offering online delivery: {online_delivery_percentage:.2f}%\")\n"
   ]
  },
  {
   "cell_type": "code",
   "execution_count": 13,
   "metadata": {},
   "outputs": [],
   "source": [
    "data['Aggregate rating'] = pd.to_numeric(data['Aggregate rating'], errors='coerce')\n"
   ]
  },
  {
   "cell_type": "code",
   "execution_count": 14,
   "metadata": {},
   "outputs": [
    {
     "name": "stdout",
     "output_type": "stream",
     "text": [
      "Average rating (with online delivery): 3.25\n",
      "Average rating (without online delivery): 2.47\n"
     ]
    }
   ],
   "source": [
    "avg_rating_with_delivery = data[data['Has Online delivery']]['Aggregate rating'].mean()\n",
    "avg_rating_without_delivery = data[~data['Has Online delivery']]['Aggregate rating'].mean()\n",
    "\n",
    "print(f\"Average rating (with online delivery): {avg_rating_with_delivery:.2f}\")\n",
    "print(f\"Average rating (without online delivery): {avg_rating_without_delivery:.2f}\")\n"
   ]
  }
 ],
 "metadata": {
  "kernelspec": {
   "display_name": "Python 3",
   "language": "python",
   "name": "python3"
  },
  "language_info": {
   "codemirror_mode": {
    "name": "ipython",
    "version": 3
   },
   "file_extension": ".py",
   "mimetype": "text/x-python",
   "name": "python",
   "nbconvert_exporter": "python",
   "pygments_lexer": "ipython3",
   "version": "3.11.9"
  }
 },
 "nbformat": 4,
 "nbformat_minor": 2
}
