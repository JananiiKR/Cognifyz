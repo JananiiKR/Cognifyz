{
 "cells": [
  {
   "cell_type": "code",
   "execution_count": 5,
   "metadata": {},
   "outputs": [
    {
     "data": {
      "text/plain": [
       "('New Delhi', 'Inner City', np.float64(4.9))"
      ]
     },
     "execution_count": 5,
     "metadata": {},
     "output_type": "execute_result"
    }
   ],
   "source": [
    "# Re-load the dataset and repeat the operations to resolve the NameError.\n",
    "df = pd.read_csv(\"C:/Users/kuppu/Downloads/Dataset .csv\")\n",
    "\n",
    "# 1. Identify the city with the highest number of restaurants.\n",
    "city_counts = df['City'].value_counts()\n",
    "city_with_most_restaurants = city_counts.idxmax()\n",
    "\n",
    "# 2. Calculate the average rating for restaurants in each city.\n",
    "average_ratings = df.groupby('City')['Aggregate rating'].mean()\n",
    "\n",
    "# 3. Determine the city with the highest average rating.\n",
    "city_with_highest_avg_rating = average_ratings.idxmax()\n",
    "highest_avg_rating = average_ratings.max()\n",
    "\n",
    "city_with_most_restaurants, city_with_highest_avg_rating, highest_avg_rating\n"
   ]
  }
 ],
 "metadata": {
  "kernelspec": {
   "display_name": "Python 3",
   "language": "python",
   "name": "python3"
  },
  "language_info": {
   "codemirror_mode": {
    "name": "ipython",
    "version": 3
   },
   "file_extension": ".py",
   "mimetype": "text/x-python",
   "name": "python",
   "nbconvert_exporter": "python",
   "pygments_lexer": "ipython3",
   "version": "3.11.9"
  }
 },
 "nbformat": 4,
 "nbformat_minor": 2
}
